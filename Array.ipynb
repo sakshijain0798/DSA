{
 "cells": [
  {
   "cell_type": "code",
   "execution_count": 32,
   "id": "3ba3a846",
   "metadata": {},
   "outputs": [],
   "source": [
    "# ################## max and min element of an array\n",
    "\n",
    "# from array import array\n",
    "\n",
    "# def max_element(arr):\n",
    "#     max = arr[0]\n",
    "    \n",
    "#     for i in range(len(arr)):\n",
    "#         if arr[i] > max:\n",
    "#             max = arr[i]\n",
    "    \n",
    "#     return max\n",
    "\n",
    "# def min_element(arr):\n",
    "#     min = arr[0]\n",
    "    \n",
    "#     for i in range(len(arr)):\n",
    "#         if arr[i] < min:\n",
    "#             min = arr[i]\n",
    "    \n",
    "#     return min\n",
    "    \n",
    "    \n",
    "# elements = list(map(int, input(\"enter values: \").split()))\n",
    "# arr = array(\"i\", elements)\n",
    "\n",
    "# max_array_element = max_element(arr)\n",
    "# min_array_element = min_element(arr)\n",
    "\n",
    "\n",
    "# print(f\"Largest element in an array is {max_array_element}\")\n",
    "# print(f\"Smallest element in an array is {min_array_element}\")"
   ]
  },
  {
   "cell_type": "code",
   "execution_count": 34,
   "id": "0df9dc02",
   "metadata": {},
   "outputs": [],
   "source": [
    "# ################## max and min element of an array\n",
    "\n",
    "# from array import array\n",
    "\n",
    "# def max_element(arr):\n",
    "#     max = -(2**31)\n",
    "    \n",
    "#     for i in range(len(arr)):\n",
    "#         if arr[i] > max:\n",
    "#             max = arr[i]\n",
    "    \n",
    "#     return max\n",
    "\n",
    "# def min_element(arr):\n",
    "#     min = (2**31) -1\n",
    "    \n",
    "#     for i in range(len(arr)):\n",
    "#         if arr[i] < min:\n",
    "#             min = arr[i]\n",
    "    \n",
    "#     return min\n",
    "    \n",
    "    \n",
    "# elements = list(map(int, input(\"enter values: \").split()))\n",
    "# arr = array(\"i\", elements)\n",
    "\n",
    "# max_array_element = max_element(arr)\n",
    "# min_array_element = min_element(arr)\n",
    "\n",
    "\n",
    "# print(f\"Largest element in an array is {max_array_element}\")\n",
    "# print(f\"Smallest element in an array is {min_array_element}\")"
   ]
  },
  {
   "cell_type": "code",
   "execution_count": 33,
   "id": "db6769f3",
   "metadata": {},
   "outputs": [],
   "source": [
    "# def largest_value(n):\n",
    "#     ans = max(n)\n",
    "#     return ans\n",
    "\n",
    "# def smallest_value(n):\n",
    "#     final = min(n)\n",
    "#     return final\n",
    "\n",
    "\n",
    "# ele = list(map(int, input(\"enter values: \").split()))\n",
    "# n = array(\"i\", ele)\n",
    "\n",
    "# value = largest_value(n)\n",
    "# val = smallest_value(n)\n",
    "\n",
    "# print(value)\n",
    "# print(val)"
   ]
  },
  {
   "cell_type": "code",
   "execution_count": 37,
   "id": "31d729b0",
   "metadata": {},
   "outputs": [],
   "source": [
    "# def sum_of_values(arr):\n",
    "#     sum = 0\n",
    "#     for i in range(len(arr)):\n",
    "#         sum += arr[i]\n",
    "#     return sum\n",
    "\n",
    "# a = list(map(int, input(\"enter 5 values in an array: \").split()[:5]))\n",
    "# arr = array(\"i\", a)\n",
    "\n",
    "# array_sum = sum_of_values(arr)\n",
    "# print(array_sum)\n"
   ]
  },
  {
   "cell_type": "code",
   "execution_count": 49,
   "id": "3e89fd2a",
   "metadata": {},
   "outputs": [
    {
     "name": "stdout",
     "output_type": "stream",
     "text": [
      "enter the value of num which you want to search in an array: 6\n",
      "6 is not present in an array\n"
     ]
    }
   ],
   "source": [
    "# def linear(arr):\n",
    "#     num = int(input(\"enter the value of num which you want to search in an array: \"))\n",
    "#     for i in range(len(arr)):\n",
    "#         if num == arr[i]:\n",
    "#             return f\"{num} is present at {i} index of an array \"\n",
    "#     return f\"{num} is not present in an array\"\n",
    "\n",
    "# arr = [1,3,4,2,10]\n",
    "# print(linear(arr))\n"
   ]
  },
  {
   "cell_type": "code",
   "execution_count": 50,
   "id": "34b15c53",
   "metadata": {},
   "outputs": [
    {
     "name": "stdout",
     "output_type": "stream",
     "text": [
      "1 2 3 4 5\n",
      "reverse of an array is: [5, 4, 3, 2, 1]\n"
     ]
    }
   ],
   "source": [
    "# def reverse_array(arr):\n",
    "#     for i in range(len(arr)):\n",
    "#         reverse = arr[::-1]\n",
    "#     return reverse\n",
    "\n",
    "# el = list(map(int, input().split()))\n",
    "# arr = array(\"i\", el)\n",
    "\n",
    "# rev = reverse_array(arr)\n",
    "# print(f\"reverse of an array is: {list(rev)}\")\n"
   ]
  },
  {
   "cell_type": "code",
   "execution_count": 87,
   "id": "063dc6ac",
   "metadata": {},
   "outputs": [
    {
     "name": "stdout",
     "output_type": "stream",
     "text": [
      "1 2 3 4 5\n",
      "[1, 2, 3, 4, 5]\n",
      "Reversed list is: [5, 4, 3, 2, 1]\n",
      "[5, 4, 3, 2, 1]\n"
     ]
    }
   ],
   "source": [
    "# def reverseList(A):\n",
    "#     start  = 0\n",
    "#     end = len(A) -1\n",
    "#     while start <= end:\n",
    "#         A[start], A[end] = A[end], A[start]\n",
    "#         start += 1\n",
    "#         end -= 1\n",
    " \n",
    "# # Driver function to test above function\n",
    "# A = list(map(int, input().split()))\n",
    "# print(A)\n",
    "# rev = reverseList(A)\n",
    "# print(f\"Reversed list is: {A}\")\n",
    "# # We are printing A is because we have transmuted a itself w/o returning anything in the function"
   ]
  },
  {
   "cell_type": "code",
   "execution_count": 90,
   "id": "4b89ac2a",
   "metadata": {},
   "outputs": [
    {
     "name": "stdout",
     "output_type": "stream",
     "text": [
      "1 2 4 5 6 7 88 5\n",
      "[1, 2, 4, 5, 6, 7, 88, 5]\n",
      "after reverse\n",
      "[2, 1, 5, 4, 7, 6, 5, 88]\n"
     ]
    }
   ],
   "source": [
    "def alternate_reverse(arr):\n",
    "    start = 0\n",
    "    end  = 1\n",
    "    while(start < len(arr) and end < len(arr)):\n",
    "        arr[start], arr[end] = arr[end], arr[start]\n",
    "        start += 2\n",
    "        end += 2\n",
    "\n",
    "        \n",
    "arr = list(map(int, input().split()))\n",
    "print(arr)\n",
    "alternate_reverse(arr)\n",
    "print(\"after reverse\")\n",
    "print(arr)"
   ]
  },
  {
   "cell_type": "code",
   "execution_count": null,
   "id": "fc81d5f9",
   "metadata": {},
   "outputs": [],
   "source": []
  },
  {
   "cell_type": "code",
   "execution_count": null,
   "id": "6fa20377",
   "metadata": {},
   "outputs": [],
   "source": []
  },
  {
   "cell_type": "code",
   "execution_count": null,
   "id": "4424efa9",
   "metadata": {},
   "outputs": [],
   "source": []
  }
 ],
 "metadata": {
  "kernelspec": {
   "display_name": "Python 3 (ipykernel)",
   "language": "python",
   "name": "python3"
  },
  "language_info": {
   "codemirror_mode": {
    "name": "ipython",
    "version": 3
   },
   "file_extension": ".py",
   "mimetype": "text/x-python",
   "name": "python",
   "nbconvert_exporter": "python",
   "pygments_lexer": "ipython3",
   "version": "3.10.4"
  }
 },
 "nbformat": 4,
 "nbformat_minor": 5
}
